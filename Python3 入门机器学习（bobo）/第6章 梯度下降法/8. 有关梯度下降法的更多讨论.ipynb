{
 "cells": [
  {
   "cell_type": "markdown",
   "metadata": {},
   "source": [
    "## 梯度下降法\n",
    "* 批量梯度下降法      Batch Gradient Descent\n",
    "* 随机梯度下降法      Stochastic Gradient Descent\n",
    "* 小批量梯度下降法  Mini-Batch Gradient Descent"
   ]
  },
  {
   "cell_type": "markdown",
   "metadata": {},
   "source": [
    "-----"
   ]
  },
  {
   "cell_type": "markdown",
   "metadata": {},
   "source": [
    "## 随机\n",
    "- 跳出局部最优解\n",
    "- 更快的运行速度\n",
    "- 机器学习领域很多算法都要使用随机的特点：随机搜索、随机森林"
   ]
  },
  {
   "cell_type": "markdown",
   "metadata": {},
   "source": [
    "***"
   ]
  },
  {
   "cell_type": "markdown",
   "metadata": {},
   "source": [
    "## 梯度上升（下降）法\n",
    "* 不是一个机器学习算法\n",
    "- 是一种基于搜索的最优方法\n",
    "- 作用：最小化一个损失函数\n",
    "- 梯度上升发：最大化一个效用函数"
   ]
  }
 ],
 "metadata": {
  "kernelspec": {
   "display_name": "Python 3",
   "language": "python",
   "name": "python3"
  },
  "language_info": {
   "codemirror_mode": {
    "name": "ipython",
    "version": 3
   },
   "file_extension": ".py",
   "mimetype": "text/x-python",
   "name": "python",
   "nbconvert_exporter": "python",
   "pygments_lexer": "ipython3",
   "version": "3.8.3"
  }
 },
 "nbformat": 4,
 "nbformat_minor": 4
}
