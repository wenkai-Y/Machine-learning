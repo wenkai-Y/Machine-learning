{
 "cells": [
  {
   "cell_type": "markdown",
   "metadata": {},
   "source": [
    "# 从高维数据向低维数据映射"
   ]
  },
  {
   "cell_type": "code",
   "execution_count": 6,
   "metadata": {},
   "outputs": [],
   "source": [
    "import numpy as np\n",
    "import matplotlib.pyplot as plt"
   ]
  },
  {
   "cell_type": "code",
   "execution_count": 7,
   "metadata": {},
   "outputs": [],
   "source": [
    "X = np.empty((100, 2))\n",
    "X[:, 0] = np.random.uniform(0., 100., size=100)\n",
    "X[:, 1] = 0.75*X[:, 0] + 3. + np.random.normal(0, 10., size=100)"
   ]
  },
  {
   "cell_type": "code",
   "execution_count": 8,
   "metadata": {},
   "outputs": [],
   "source": [
    "%run PCA.py"
   ]
  },
  {
   "cell_type": "code",
   "execution_count": 9,
   "metadata": {},
   "outputs": [
    {
     "data": {
      "text/plain": [
       "PCA(n_components=2)"
      ]
     },
     "execution_count": 9,
     "metadata": {},
     "output_type": "execute_result"
    }
   ],
   "source": [
    "pca = PCA(n_components=2)\n",
    "pca.fit(X)"
   ]
  },
  {
   "cell_type": "code",
   "execution_count": 10,
   "metadata": {},
   "outputs": [
    {
     "data": {
      "text/plain": [
       "array([[ 0.78947299,  0.61378531],\n",
       "       [ 0.61378874, -0.78947032]])"
      ]
     },
     "execution_count": 10,
     "metadata": {},
     "output_type": "execute_result"
    }
   ],
   "source": [
    "pca.components_"
   ]
  },
  {
   "cell_type": "code",
   "execution_count": 11,
   "metadata": {},
   "outputs": [],
   "source": [
    "pca = PCA(n_components=1)"
   ]
  },
  {
   "cell_type": "code",
   "execution_count": 12,
   "metadata": {},
   "outputs": [
    {
     "data": {
      "text/plain": [
       "PCA(n_components=1)"
      ]
     },
     "execution_count": 12,
     "metadata": {},
     "output_type": "execute_result"
    }
   ],
   "source": [
    "pca.fit(X)"
   ]
  },
  {
   "cell_type": "code",
   "execution_count": 13,
   "metadata": {},
   "outputs": [
    {
     "data": {
      "text/plain": [
       "(100, 1)"
      ]
     },
     "execution_count": 13,
     "metadata": {},
     "output_type": "execute_result"
    }
   ],
   "source": [
    "X_reduction = pca.transform(X)\n",
    "X_reduction.shape"
   ]
  },
  {
   "cell_type": "code",
   "execution_count": 14,
   "metadata": {},
   "outputs": [
    {
     "data": {
      "text/plain": [
       "(100, 2)"
      ]
     },
     "execution_count": 14,
     "metadata": {},
     "output_type": "execute_result"
    }
   ],
   "source": [
    "X_restore = pca.inverse_trasform(X_reduction)\n",
    "X_restore.shape"
   ]
  },
  {
   "cell_type": "code",
   "execution_count": 15,
   "metadata": {},
   "outputs": [
    {
     "data": {
      "image/png": "[encoded data removed]",
      "text/plain": [
       "<Figure size 432x288 with 1 Axes>"
      ]
     },
     "metadata": {
      "needs_background": "light"
     },
     "output_type": "display_data"
    }
   ],
   "source": [
    "plt.scatter(X[:, 0], X[:, 1], color='b', alpha=0.5)\n",
    "plt.scatter(X_restore[:, 0], X_restore[:, 1], color='r', alpha=0.5)\n",
    "plt.show()"
   ]
  },
  {
   "cell_type": "markdown",
   "metadata": {},
   "source": [
    "# scilit-learn中的PCA"
   ]
  },
  {
   "cell_type": "code",
   "execution_count": 16,
   "metadata": {},
   "outputs": [],
   "source": [
    "from sklearn.decomposition import PCA"
   ]
  },
  {
   "cell_type": "code",
   "execution_count": 17,
   "metadata": {},
   "outputs": [
    {
     "data": {
      "text/plain": [
       "PCA(n_components=1)"
      ]
     },
     "execution_count": 17,
     "metadata": {},
     "output_type": "execute_result"
    }
   ],
   "source": [
    "pca = PCA(n_components=1)\n",
    "pca.fit(X)"
   ]
  },
  {
   "cell_type": "code",
   "execution_count": 18,
   "metadata": {},
   "outputs": [
    {
     "data": {
      "text/plain": [
       "array([[-0.78947304, -0.61378524]])"
      ]
     },
     "execution_count": 18,
     "metadata": {},
     "output_type": "execute_result"
    }
   ],
   "source": [
    "pca.components_"
   ]
  },
  {
   "cell_type": "code",
   "execution_count": 19,
   "metadata": {},
   "outputs": [],
   "source": [
    "X_reduction = pca.transform(X)"
   ]
  },
  {
   "cell_type": "code",
   "execution_count": 20,
   "metadata": {},
   "outputs": [
    {
     "data": {
      "text/plain": [
       "(100, 1)"
      ]
     },
     "execution_count": 20,
     "metadata": {},
     "output_type": "execute_result"
    }
   ],
   "source": [
    "X_reduction.shape"
   ]
  },
  {
   "cell_type": "code",
   "execution_count": 21,
   "metadata": {},
   "outputs": [],
   "source": [
    "X_restore = pca.inverse_transform(X_reduction)"
   ]
  },
  {
   "cell_type": "code",
   "execution_count": 22,
   "metadata": {
    "collapsed": true
   },
   "outputs": [
    {
     "data": {
      "text/plain": [
       "array([[ 78.66039406,  63.19383591],\n",
       "       [ 35.50072341,  29.63883436],\n",
       "       [ 58.31494194,  47.37602111],\n",
       "       [ 63.34373467,  51.28571609],\n",
       "       [ 18.64713547,  16.53581107],\n",
       "       [ 41.17925111,  34.05367356],\n",
       "       [ 70.19806106,  56.61469403],\n",
       "       [ 50.84516336,  41.56855251],\n",
       "       [ 68.11480818,  54.99504418],\n",
       "       [  4.63718077,   5.64360442],\n",
       "       [ 42.10185615,  34.77096386],\n",
       "       [  0.48960913,   2.4190253 ],\n",
       "       [ 16.3374477 ,  14.74011673],\n",
       "       [ 64.89241131,  52.48975324],\n",
       "       [ 59.53382969,  48.32365995],\n",
       "       [ 40.29613785,  33.3670866 ],\n",
       "       [ 45.66032015,  37.53753421],\n",
       "       [ 50.89507425,  41.60735633],\n",
       "       [  2.43354   ,   3.93035758],\n",
       "       [ 74.01290765,  59.58059207],\n",
       "       [ 97.16329503,  77.57913731],\n",
       "       [ 32.14532896,  27.03014286],\n",
       "       [ 97.22199457,  77.62477397],\n",
       "       [ 59.04109848,  47.94058018],\n",
       "       [ 97.64441078,  77.9531865 ],\n",
       "       [ 83.35988425,  66.8475107 ],\n",
       "       [ 58.43862583,  47.47218062],\n",
       "       [ 95.88958509,  76.5888763 ],\n",
       "       [ 58.57002853,  47.57434122],\n",
       "       [ 16.40114626,  14.78963993],\n",
       "       [  9.67522456,   9.56049176],\n",
       "       [ 14.6719497 ,  13.44525541],\n",
       "       [ 32.36479505,  27.20076939],\n",
       "       [ 69.01046434,  55.69138277],\n",
       "       [ 99.51314823,  79.40605875],\n",
       "       [ 45.53604012,  37.44091122],\n",
       "       [ 51.67419605,  42.21309387],\n",
       "       [ 55.73157087,  45.3675484 ],\n",
       "       [ 92.92138561,  74.28121416],\n",
       "       [ 87.25359776,  69.87472478],\n",
       "       [ 30.25773664,  25.56261166],\n",
       "       [  3.42664036,   4.70245532],\n",
       "       [ 30.81080072,  25.99259793],\n",
       "       [ 86.23889672,  69.08583333],\n",
       "       [ 82.24354433,  65.97959889],\n",
       "       [ 46.0066811 ,  37.80681667],\n",
       "       [ 60.59663206,  49.14994834],\n",
       "       [ 48.36148528,  39.63758732],\n",
       "       [ 60.58076673,  49.13761365],\n",
       "       [ -1.36506955,   0.97708321],\n",
       "       [ 15.87452894,  14.38021501],\n",
       "       [ 43.30973044,  35.71004017],\n",
       "       [ 23.86167278,  20.5899154 ],\n",
       "       [ 55.48023944,  45.17214778],\n",
       "       [ 80.64338831,  64.73553848],\n",
       "       [ -0.10450623,   1.95712322],\n",
       "       [ 56.87447579,  46.25611348],\n",
       "       [ 57.04332267,  46.38738551],\n",
       "       [ 23.07854203,  19.98106105],\n",
       "       [ 39.13108387,  32.46130147],\n",
       "       [ 10.5943972 ,  10.2751135 ],\n",
       "       [ 69.59719668,  56.14754483],\n",
       "       [ 87.72954628,  70.24475665],\n",
       "       [ 38.80920111,  32.21104987],\n",
       "       [ 35.60855207,  29.72266704],\n",
       "       [ 90.72083943,  72.57037324],\n",
       "       [ 86.00783052,  68.90618816],\n",
       "       [ -2.47109889,   0.11718749],\n",
       "       [ 37.09067414,  30.87496055],\n",
       "       [ 88.94040578,  71.18615383],\n",
       "       [ 52.60882729,  42.9397341 ],\n",
       "       [ 69.35354687,  55.95811638],\n",
       "       [  5.98209204,   6.68922175],\n",
       "       [ 53.27503076,  43.45768194],\n",
       "       [ 13.6536967 ,  12.65360245],\n",
       "       [ 58.04929993,  47.16949455],\n",
       "       [ 19.70920578,  17.36153032],\n",
       "       [ 80.35124249,  64.50840622],\n",
       "       [ 77.12285043,  61.99845425],\n",
       "       [ 10.97694435,  10.57252936],\n",
       "       [ 46.93611152,  38.52941346],\n",
       "       [ 61.92289625,  50.18106828],\n",
       "       [ 48.20260031,  39.5140603 ],\n",
       "       [ 86.26237844,  69.10408948],\n",
       "       [ 93.13849713,  74.4500101 ],\n",
       "       [ 53.86267878,  43.91455592],\n",
       "       [ 88.78713742,  71.06699351],\n",
       "       [ 28.53521913,  24.22341985],\n",
       "       [ 77.73521536,  62.47454468],\n",
       "       [ 66.12599447,  53.44881721],\n",
       "       [ 96.68363171,  77.20621733],\n",
       "       [ 73.5509124 ,  59.22140835],\n",
       "       [ 11.14558635,  10.7036421 ],\n",
       "       [ 59.92374357,  48.62680315],\n",
       "       [100.18188189,  79.92597373],\n",
       "       [ 14.71063164,  13.47532914],\n",
       "       [ 53.50085232,  43.63324961],\n",
       "       [ 22.84495344,  19.7994548 ],\n",
       "       [ 31.70444333,  26.68737106],\n",
       "       [ 51.46644327,  42.051574  ]])"
      ]
     },
     "execution_count": 22,
     "metadata": {},
     "output_type": "execute_result"
    }
   ],
   "source": [
    "X_restore"
   ]
  },
  {
   "cell_type": "code",
   "execution_count": 23,
   "metadata": {},
   "outputs": [
    {
     "data": {
      "image/png": "[encoded data removed]",
      "text/plain": [
       "<Figure size 432x288 with 1 Axes>"
      ]
     },
     "metadata": {
      "needs_background": "light"
     },
     "output_type": "display_data"
    }
   ],
   "source": [
    "plt.scatter(X[:, 0], X[:, 1], color='b', alpha=0.5)\n",
    "plt.scatter(X_restore[:, 0], X_restore[:, 1], color='r', alpha=0.5)\n",
    "plt.show()"
   ]
  }
 ],
 "metadata": {
  "kernelspec": {
   "display_name": "Python 3",
   "language": "python",
   "name": "python3"
  },
  "language_info": {
   "codemirror_mode": {
    "name": "ipython",
    "version": 3
   },
   "file_extension": ".py",
   "mimetype": "text/x-python",
   "name": "python",
   "nbconvert_exporter": "python",
   "pygments_lexer": "ipython3",
   "version": "3.8.3"
  }
 },
 "nbformat": 4,
 "nbformat_minor": 4
}
